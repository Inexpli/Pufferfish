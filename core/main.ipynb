{
 "cells": [
  {
   "cell_type": "code",
   "execution_count": 1,
   "id": "0c757955",
   "metadata": {},
   "outputs": [
    {
     "ename": "ImportError",
     "evalue": "attempted relative import with no known parent package",
     "output_type": "error",
     "traceback": [
      "\u001b[31m---------------------------------------------------------------------------\u001b[39m",
      "\u001b[31mImportError\u001b[39m                               Traceback (most recent call last)",
      "\u001b[36mCell\u001b[39m\u001b[36m \u001b[39m\u001b[32mIn[1]\u001b[39m\u001b[32m, line 1\u001b[39m\n\u001b[32m----> \u001b[39m\u001b[32m1\u001b[39m \u001b[38;5;28;01mfrom\u001b[39;00m\u001b[38;5;250m \u001b[39m\u001b[34;01mminimax\u001b[39;00m\u001b[38;5;250m \u001b[39m\u001b[38;5;28;01mimport\u001b[39;00m minimax\n\u001b[32m      2\u001b[39m \u001b[38;5;28;01mfrom\u001b[39;00m\u001b[38;5;250m \u001b[39m\u001b[34;01mtransposition_table\u001b[39;00m\u001b[38;5;250m \u001b[39m\u001b[38;5;28;01mimport\u001b[39;00m ZobristBoard\n\u001b[32m      3\u001b[39m \u001b[38;5;28;01mfrom\u001b[39;00m\u001b[38;5;250m \u001b[39m\u001b[34;01mgaviota\u001b[39;00m\u001b[38;5;250m \u001b[39m\u001b[38;5;28;01mimport\u001b[39;00m get_move_from_table\n",
      "\u001b[36mFile \u001b[39m\u001b[32mc:\\Users\\kubaj\\Desktop\\Code\\Pufferfish\\core\\minimax.py:2\u001b[39m\n\u001b[32m      1\u001b[39m \u001b[38;5;28;01mimport\u001b[39;00m\u001b[38;5;250m \u001b[39m\u001b[34;01mchess\u001b[39;00m\n\u001b[32m----> \u001b[39m\u001b[32m2\u001b[39m \u001b[38;5;28;01mfrom\u001b[39;00m\u001b[38;5;250m \u001b[39m\u001b[34;01mevaluation\u001b[39;00m\u001b[38;5;250m \u001b[39m\u001b[38;5;28;01mimport\u001b[39;00m evaluate_board\n\u001b[32m      3\u001b[39m \u001b[38;5;28;01mfrom\u001b[39;00m\u001b[38;5;250m \u001b[39m\u001b[34;01mtransposition_table\u001b[39;00m\u001b[38;5;250m \u001b[39m\u001b[38;5;28;01mimport\u001b[39;00m LRUCache, Entry\n\u001b[32m      5\u001b[39m \u001b[38;5;66;03m# Inicjalizacja tablicy transpozycji\u001b[39;00m\n",
      "\u001b[36mFile \u001b[39m\u001b[32mc:\\Users\\kubaj\\Desktop\\Code\\Pufferfish\\core\\evaluation.py:1\u001b[39m\n\u001b[32m----> \u001b[39m\u001b[32m1\u001b[39m \u001b[38;5;28;01mfrom\u001b[39;00m\u001b[38;5;250m \u001b[39m\u001b[34;01m.\u001b[39;00m\u001b[34;01mtransposition_table\u001b[39;00m\u001b[38;5;250m \u001b[39m\u001b[38;5;28;01mimport\u001b[39;00m is_threefold_repetition\n\u001b[32m      2\u001b[39m \u001b[38;5;28;01mimport\u001b[39;00m\u001b[38;5;250m \u001b[39m\u001b[34;01mchess\u001b[39;00m\n\u001b[32m      3\u001b[39m \u001b[38;5;28;01mfrom\u001b[39;00m\u001b[38;5;250m \u001b[39m\u001b[34;01m.\u001b[39;00m\u001b[34;01mheuristics\u001b[39;00m\u001b[38;5;250m \u001b[39m\u001b[38;5;28;01mimport\u001b[39;00m piece_position, piece_values_local\n",
      "\u001b[31mImportError\u001b[39m: attempted relative import with no known parent package"
     ]
    }
   ],
   "source": [
    "from minimax import minimax\n",
    "from transposition_table import ZobristBoard\n",
    "from gaviota import get_move_from_table\n",
    "import chess, chess.pgn\n",
    "from IPython.display import display, SVG\n",
    "import chess.svg\n",
    "import chess.gaviota\n",
    "\n",
    "# ====== CONFIG ======\n",
    "TB_DIR = \"../tablebases/gaviota\"\n",
    "STORAGE = \"../archive\"\n",
    "\n",
    "SAVE = False\n",
    "\n",
    "def save_function(game, storage, filename):\n",
    "    with open(f\"{storage}/{filename}\", \"w\", encoding=\"utf-8\") as pgn_file:\n",
    "        print(game, file=pgn_file)\n",
    "\n",
    "SAVE_CONFIG = {\n",
    "    \"event\": \"Piękny Endgame\",\n",
    "    \"date\": \"2025.10.01\",\n",
    "    \"filename\": \"endgame_example.pgn\",\n",
    "    \"setup\": True,\n",
    "    \"save_function\": save_function\n",
    "}\n",
    "\n",
    "# ====================\n",
    "\n",
    "# 4k3/3n1b2/8/8/7R/R7/2K5/8 w - - 0 1\n",
    "board = ZobristBoard(\"8/2r5/3kn3/2b5/8/3K4/1R6/8 w - - 0 1\")\n",
    "white = True\n",
    "\n",
    "display(SVG(chess.svg.board(board, size=400)))\n",
    "\n",
    "# Ustawienia zapisu partii\n",
    "if SAVE:\n",
    "    game = chess.pgn.Game()\n",
    "    game.headers[\"Event\"] = SAVE_CONFIG[\"event\"]\n",
    "    game.headers[\"Date\"] = SAVE_CONFIG[\"date\"]\n",
    "    game.setup = SAVE_CONFIG[\"setup\"]\n",
    "    game.headers[\"FEN\"] = board.fen()\n",
    "else:\n",
    "    game = chess.pgn.Game()\n",
    "\n",
    "node = game\n",
    "move_count = 0\n",
    "\n",
    "while not board.is_game_over():\n",
    "    with chess.gaviota.open_tablebase(TB_DIR) as tb:\n",
    "        wdl = tb.get_wdl(board)\n",
    "        if wdl is not None:\n",
    "            move = get_move_from_table(board, tb)\n",
    "            print(\"Move from tablebase:\", move)\n",
    "        else:\n",
    "            score, move = minimax(board, 6, float('-inf'), float('inf'), white)\n",
    "        \n",
    "        if move is None:\n",
    "            break\n",
    "\n",
    "        node = node.add_variation(move)\n",
    "        board.push(move)\n",
    "        move_count += 1\n",
    "\n",
    "        white = not white\n",
    "        display(SVG(chess.svg.board(board, size=400,arrows=[chess.svg.Arrow(move.from_square, move.to_square, color=\"#fc681fcc\")],)))\n",
    "\n",
    "print(\"Game over:\", board.result())\n",
    "\n",
    "if SAVE:\n",
    "    SAVE_CONFIG[\"save_function\"](game, STORAGE, SAVE_CONFIG[\"filename\"])"
   ]
  }
 ],
 "metadata": {
  "kernelspec": {
   "display_name": ".venv",
   "language": "python",
   "name": "python3"
  },
  "language_info": {
   "codemirror_mode": {
    "name": "ipython",
    "version": 3
   },
   "file_extension": ".py",
   "mimetype": "text/x-python",
   "name": "python",
   "nbconvert_exporter": "python",
   "pygments_lexer": "ipython3",
   "version": "3.13.2"
  }
 },
 "nbformat": 4,
 "nbformat_minor": 5
}
