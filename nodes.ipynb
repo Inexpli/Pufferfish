{
 "cells": [
  {
   "cell_type": "code",
   "execution_count": 1,
   "metadata": {},
   "outputs": [],
   "source": [
    "import chess\n",
    "\n",
    "board = chess.Board()"
   ]
  },
  {
   "cell_type": "code",
   "execution_count": null,
   "metadata": {},
   "outputs": [
    {
     "name": "stdout",
     "output_type": "stream",
     "text": [
      "Depth: 0 = 1 Nodes\n",
      "Depth: 1 = 20 Nodes\n",
      "Depth: 2 = 400 Nodes\n",
      "Depth: 3 = 8902 Nodes\n",
      "Depth: 4 = 197281 Nodes\n",
      "Depth: 5 = 4865609 Nodes\n",
      "Depth: 6 = 119060324 Nodes\n"
     ]
    }
   ],
   "source": [
    "def move_generation_test(depth):\n",
    "    if(depth == 0):\n",
    "        return 1\n",
    "  \n",
    "    moves = list(board.generate_legal_moves())\n",
    "    numPositions = 0\n",
    "\n",
    "    for move in moves:\n",
    "        board.push(move)\n",
    "        numPositions += move_generation_test(depth -1)\n",
    "        board.pop()\n",
    "        \n",
    "    return numPositions\n",
    "\n",
    "for i in range(7):\n",
    "    print(\"Depth: {0} = {1} Nodes\".format(i, move_generation_test(i)))\n",
    "\n",
    "# Output the number of nodes generated for each depth from 0 to 6\n",
    "# This will show how the number of legal moves increases with depth\n",
    "# Expected output:\n",
    "# Depth: 0 = 1 Nodes\n",
    "# Depth: 1 = 20 Nodes\n",
    "# Depth: 2 = 400 Nodes\n",
    "# Depth: 3 = 8902 Nodes\n",
    "# Depth: 4 = 197281 Nodes   \n",
    "# Depth: 5 = 4865609 Nodes\n",
    "# Depth: 6 = 119060324 Nodes"
   ]
  }
 ],
 "metadata": {
  "kernelspec": {
   "display_name": "Python 3",
   "language": "python",
   "name": "python3"
  },
  "language_info": {
   "codemirror_mode": {
    "name": "ipython",
    "version": 3
   },
   "file_extension": ".py",
   "mimetype": "text/x-python",
   "name": "python",
   "nbconvert_exporter": "python",
   "pygments_lexer": "ipython3",
   "version": "3.13.2"
  }
 },
 "nbformat": 4,
 "nbformat_minor": 2
}
