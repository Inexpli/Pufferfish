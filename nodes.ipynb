{
 "cells": [
  {
   "cell_type": "code",
   "execution_count": null,
   "metadata": {},
   "outputs": [],
   "source": [
    "import chess\n",
    "\n",
    "board = chess.Board()"
   ]
  },
  {
   "cell_type": "code",
   "execution_count": 11,
   "metadata": {},
   "outputs": [
    {
     "name": "stdout",
     "output_type": "stream",
     "text": [
      "Depth: 0 = 1 Nodes\n",
      "Depth: 1 = 20 Nodes\n",
      "Depth: 2 = 400 Nodes\n",
      "Depth: 3 = 8902 Nodes\n",
      "Depth: 4 = 197281 Nodes\n",
      "Depth: 5 = 4865609 Nodes\n",
      "Depth: 6 = 119060324 Nodes\n"
     ]
    }
   ],
   "source": [
    "def MoveGenerationTest(depth):\n",
    "    if(depth == 0):\n",
    "        return 1\n",
    "  \n",
    "    moves = list(board.generate_legal_moves())\n",
    "    numPositions = 0\n",
    "\n",
    "    for move in moves:\n",
    "        board.push(move)\n",
    "        numPositions += MoveGenerationTest(depth -1)\n",
    "        board.pop()\n",
    "        \n",
    "    return numPositions\n",
    "\n",
    "for i in range(7):\n",
    "    print(\"Depth: {0} = {1} Nodes\".format(i, MoveGenerationTest(i)))"
   ]
  }
 ],
 "metadata": {
  "kernelspec": {
   "display_name": "venv",
   "language": "python",
   "name": "python3"
  },
  "language_info": {
   "codemirror_mode": {
    "name": "ipython",
    "version": 3
   },
   "file_extension": ".py",
   "mimetype": "text/x-python",
   "name": "python",
   "nbconvert_exporter": "python",
   "pygments_lexer": "ipython3",
   "version": "3.13.2"
  }
 },
 "nbformat": 4,
 "nbformat_minor": 2
}
