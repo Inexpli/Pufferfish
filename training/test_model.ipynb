{
 "cells": [
  {
   "cell_type": "code",
   "execution_count": null,
   "id": "24dd4639",
   "metadata": {},
   "outputs": [],
   "source": [
    "import chess\n",
    "from data_manager import board_to_tensor, index_to_move\n",
    "import torch\n",
    "from model import Model\n",
    "import numpy as np\n",
    "import json\n",
    "\n",
    "with open(\"../models/move_mapping.json\", \"r\") as f:\n",
    "    int_to_move = json.load(f)"
   ]
  },
  {
   "cell_type": "code",
   "execution_count": null,
   "id": "a96812e7",
   "metadata": {},
   "outputs": [],
   "source": [
    "device = torch.device(\"cuda\" if torch.cuda.is_available() else \"cpu\")\n",
    "print(f'Using device: {device}')\n",
    "\n",
    "model = Model(len(int_to_move))\n",
    "model.load_state_dict(torch.load(\"../models/DEFAULT_150.pth\"))\n",
    "model.to(device)\n",
    "model.eval()\n",
    "\n",
    "def predict_move(board: chess.Board) -> chess.Move:\n",
    "    \"\"\"\n",
    "    Przewiduje ruch na podstawie stanu szachownicy\n",
    "    \"\"\"\n",
    "\n",
    "    X_tensor = board_to_tensor(board).to(device)\n",
    "    with torch.no_grad():\n",
    "        logits = model(X_tensor)\n",
    "    \n",
    "    probabilities = torch.softmax(logits.squeeze(0), dim=0).cpu().numpy()\n",
    "    sorted_indices = np.argsort(probabilities)[::-1]\n",
    "    legal_moves = list(board.legal_moves)\n",
    "\n",
    "    # Dekodujemy indeks na ruch UCI\n",
    "    for idx in sorted_indices:\n",
    "        move_index = int(int_to_move[str(idx)])\n",
    "        move = chess.Move.from_uci(index_to_move(move_index).uci())\n",
    "        if move in legal_moves:\n",
    "            return move, probabilities[idx]\n",
    "\n",
    "    return None, None"
   ]
  },
  {
   "cell_type": "code",
   "execution_count": null,
   "id": "a32fbbf2",
   "metadata": {},
   "outputs": [],
   "source": [
    "def make_move(move,board: chess.Board) -> chess.Board:\n",
    "    \"\"\"\n",
    "    Wykonuje ruch na szachownicy, komputer wykonuje ruch z predykcji i zwraca zaktualizowaną szachownicę\n",
    "    \"\"\"\n",
    "    move = chess.Move.from_uci(move)\n",
    "    if move in board.legal_moves:\n",
    "        board.push(move)\n",
    "        best_move, move_prob = predict_move(board)\n",
    "        print(f\"Best move: {best_move}, confidence: {move_prob:.4f}\")\n",
    "        board.push(best_move)\n",
    "    return board"
   ]
  },
  {
   "cell_type": "code",
   "execution_count": null,
   "id": "a871e157",
   "metadata": {},
   "outputs": [],
   "source": [
    "board = chess.Board()\n",
    "board"
   ]
  },
  {
   "cell_type": "code",
   "execution_count": null,
   "id": "9af54d25",
   "metadata": {},
   "outputs": [],
   "source": [
    "make_move(\"e2e4\", board)"
   ]
  },
  {
   "cell_type": "code",
   "execution_count": null,
   "id": "1c8848d4",
   "metadata": {},
   "outputs": [],
   "source": [
    "make_move(\"d2d4\", board)"
   ]
  },
  {
   "cell_type": "code",
   "execution_count": null,
   "id": "d6e7386e",
   "metadata": {},
   "outputs": [],
   "source": [
    "make_move(\"b1c3\", board)"
   ]
  },
  {
   "cell_type": "code",
   "execution_count": null,
   "id": "bf76bcb3",
   "metadata": {},
   "outputs": [],
   "source": [
    "make_move(\"c1g5\", board)"
   ]
  },
  {
   "cell_type": "code",
   "execution_count": null,
   "id": "8b70809b",
   "metadata": {},
   "outputs": [],
   "source": [
    "make_move(\"g1f3\", board)"
   ]
  },
  {
   "cell_type": "code",
   "execution_count": null,
   "id": "db37188e",
   "metadata": {},
   "outputs": [],
   "source": [
    "make_move(\"f1b5\", board)"
   ]
  },
  {
   "cell_type": "code",
   "execution_count": null,
   "id": "bb3f90d7",
   "metadata": {},
   "outputs": [],
   "source": [
    "make_move(\"f3e5\", board)"
   ]
  },
  {
   "cell_type": "code",
   "execution_count": null,
   "id": "b3907aa4",
   "metadata": {},
   "outputs": [],
   "source": [
    "make_move(\"g5h6\", board)"
   ]
  }
 ],
 "metadata": {
  "kernelspec": {
   "display_name": ".venv",
   "language": "python",
   "name": "python3"
  },
  "language_info": {
   "codemirror_mode": {
    "name": "ipython",
    "version": 3
   },
   "file_extension": ".py",
   "mimetype": "text/x-python",
   "name": "python",
   "nbconvert_exporter": "python",
   "pygments_lexer": "ipython3",
   "version": "3.12.3"
  }
 },
 "nbformat": 4,
 "nbformat_minor": 5
}
