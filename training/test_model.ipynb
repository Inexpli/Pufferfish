{
 "cells": [
  {
   "cell_type": "code",
   "execution_count": null,
   "id": "24dd4639",
   "metadata": {},
   "outputs": [],
   "source": [
    "import chess\n",
    "from data_manager import board_to_tensor, index_to_move\n",
    "import torch\n",
    "from model import Model\n",
    "import numpy as np\n",
    "import json\n",
    "from IPython.display import display, SVG\n",
    "\n",
    "with open(\"../models/move_mapping.json\", \"r\") as f:\n",
    "    int_to_move = json.load(f)"
   ]
  },
  {
   "cell_type": "code",
   "execution_count": null,
   "id": "a96812e7",
   "metadata": {},
   "outputs": [],
   "source": [
    "device = torch.device(\"cuda\" if torch.cuda.is_available() else \"cpu\")\n",
    "print(f'Using device: {device}')\n",
    "\n",
    "model = Model(len(int_to_move))\n",
    "model.load_state_dict(torch.load(\"../models/CN2_BN2_RLROP.pth\"))\n",
    "model.to(device)\n",
    "model.eval()\n",
    "\n",
    "def predict_move(board: chess.Board) -> chess.Move:\n",
    "    \"\"\"\n",
    "    Przewiduje ruch na podstawie stanu szachownicy\n",
    "    \"\"\"\n",
    "\n",
    "    X_tensor = board_to_tensor(board).to(device)\n",
    "    with torch.no_grad():\n",
    "        logits = model(X_tensor)\n",
    "    \n",
    "    probabilities = torch.softmax(logits.squeeze(0), dim=0).cpu().numpy()\n",
    "    sorted_indices = np.argsort(probabilities)[::-1]\n",
    "    legal_moves = list(board.legal_moves)\n",
    "\n",
    "    # Dekodujemy indeks na ruch UCI\n",
    "    for idx in sorted_indices:\n",
    "        move_index = int(int_to_move[str(idx)])\n",
    "        move = chess.Move.from_uci(index_to_move(move_index).uci())\n",
    "        if move in legal_moves:\n",
    "            return move, probabilities[idx]\n",
    "\n",
    "    return None, None"
   ]
  },
  {
   "cell_type": "code",
   "execution_count": null,
   "id": "a32fbbf2",
   "metadata": {},
   "outputs": [],
   "source": [
    "def make_move(move, board: chess.Board):\n",
    "    \"\"\"\n",
    "    Wykonuje ruch na szachownicy, komputer wykonuje ruch z predykcji i zwraca zaktualizowaną szachownicę\n",
    "    \"\"\"\n",
    "    move = chess.Move.from_uci(move)\n",
    "    if move in board.legal_moves:\n",
    "        board.push(move)\n",
    "        display(SVG(chess.svg.board(board, size=400, arrows=[chess.svg.Arrow(move.from_square, move.to_square, color=\"#fc681fcc\")],)))\n",
    "        best_move, move_prob = predict_move(board)\n",
    "        print(f\"Best move: {best_move}, confidence: {move_prob:.4f}\")\n",
    "        board.push(best_move)\n",
    "        display(SVG(chess.svg.board(board, size=400, arrows=[chess.svg.Arrow(best_move.from_square, best_move.to_square, color=\"#fc681fcc\")],)))\n",
    "    else:\n",
    "        print(f\"Invalid move: {move}\")\n",
    "    "
   ]
  },
  {
   "cell_type": "code",
   "execution_count": null,
   "id": "a871e157",
   "metadata": {},
   "outputs": [],
   "source": [
    "board = chess.Board()\n",
    "board"
   ]
  },
  {
   "cell_type": "code",
   "execution_count": null,
   "id": "9af54d25",
   "metadata": {},
   "outputs": [],
   "source": [
    "make_move(\"e2e4\", board)"
   ]
  },
  {
   "cell_type": "code",
   "execution_count": null,
   "id": "1c8848d4",
   "metadata": {},
   "outputs": [],
   "source": [
    "make_move(\"d2d4\", board)"
   ]
  },
  {
   "cell_type": "code",
   "execution_count": null,
   "id": "3f7477ea",
   "metadata": {},
   "outputs": [],
   "source": [
    "make_move(\"d1d4\", board)"
   ]
  },
  {
   "cell_type": "code",
   "execution_count": null,
   "id": "04e507c0",
   "metadata": {},
   "outputs": [],
   "source": [
    "make_move(\"d4c4\", board)"
   ]
  },
  {
   "cell_type": "code",
   "execution_count": null,
   "id": "a6d3d71c",
   "metadata": {},
   "outputs": [],
   "source": [
    "make_move(\"g1f3\", board)"
   ]
  },
  {
   "cell_type": "code",
   "execution_count": null,
   "id": "2bc80cf5",
   "metadata": {},
   "outputs": [],
   "source": [
    "make_move(\"b1c3\", board)"
   ]
  },
  {
   "cell_type": "code",
   "execution_count": null,
   "id": "bb34de1e",
   "metadata": {},
   "outputs": [],
   "source": [
    "make_move(\"c3d5\", board)"
   ]
  },
  {
   "cell_type": "code",
   "execution_count": null,
   "id": "e666199e",
   "metadata": {},
   "outputs": [],
   "source": [
    "make_move(\"e4d5\", board)"
   ]
  },
  {
   "cell_type": "code",
   "execution_count": null,
   "id": "e624f739",
   "metadata": {},
   "outputs": [],
   "source": [
    "make_move(\"f3d4\", board)"
   ]
  }
 ],
 "metadata": {
  "kernelspec": {
   "display_name": ".venv",
   "language": "python",
   "name": "python3"
  },
  "language_info": {
   "codemirror_mode": {
    "name": "ipython",
    "version": 3
   },
   "file_extension": ".py",
   "mimetype": "text/x-python",
   "name": "python",
   "nbconvert_exporter": "python",
   "pygments_lexer": "ipython3",
   "version": "3.12.3"
  }
 },
 "nbformat": 4,
 "nbformat_minor": 5
}
