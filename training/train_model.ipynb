{
 "cells": [
  {
   "cell_type": "code",
   "execution_count": 1,
   "id": "9ffe4dab",
   "metadata": {},
   "outputs": [],
   "source": [
    "import torch\n",
    "import torch.nn as nn \n",
    "import torch.optim as optim \n",
    "import numpy as np\n",
    "import json\n",
    "from torch.utils.data import DataLoader \n",
    "from data_manager import load_data, get_data_shapes, get_num_indexes\n",
    "%load_ext autoreload\n",
    "%autoreload 2"
   ]
  },
  {
   "cell_type": "code",
   "execution_count": 2,
   "id": "12c60842",
   "metadata": {},
   "outputs": [
    {
     "data": {
      "application/json": {
       "ascii": false,
       "bar_format": null,
       "colour": null,
       "elapsed": 0.004864692687988281,
       "initial": 0,
       "n": 0,
       "ncols": null,
       "nrows": null,
       "postfix": null,
       "prefix": "Przetwarzanie plików PGN",
       "rate": null,
       "total": 24,
       "unit": "it",
       "unit_divisor": 1000,
       "unit_scale": false
      },
      "application/vnd.jupyter.widget-view+json": {
       "model_id": "20c52d4fb9184f63b110420a8be335ce",
       "version_major": 2,
       "version_minor": 0
      },
      "text/plain": [
       "Przetwarzanie plików PGN:   0%|          | 0/24 [00:00<?, ?it/s]"
      ]
     },
     "metadata": {},
     "output_type": "display_data"
    }
   ],
   "source": [
    "X, y, num_games = load_data()"
   ]
  },
  {
   "cell_type": "code",
   "execution_count": 3,
   "id": "347499fa",
   "metadata": {},
   "outputs": [
    {
     "name": "stdout",
     "output_type": "stream",
     "text": [
      "Ilość gier: 10327\n"
     ]
    }
   ],
   "source": [
    "print(\"Ilość gier:\", num_games)"
   ]
  },
  {
   "cell_type": "code",
   "execution_count": 4,
   "id": "55410583",
   "metadata": {},
   "outputs": [
    {
     "data": {
      "text/plain": [
       "{'X_shape': (848412, 8, 8, 13),\n",
       " 'y_shape': (848412,),\n",
       " 'X_dtype': dtype('float32'),\n",
       " 'y_dtype': dtype('int64'),\n",
       " 'X_min': np.float32(0.0),\n",
       " 'X_max': np.float32(1.0),\n",
       " 'y_min': np.int64(1),\n",
       " 'y_max': np.int64(4094),\n",
       " 'y_unique': 1792}"
      ]
     },
     "execution_count": 4,
     "metadata": {},
     "output_type": "execute_result"
    }
   ],
   "source": [
    "get_data_shapes(X,y)"
   ]
  },
  {
   "cell_type": "code",
   "execution_count": 5,
   "id": "89702e71",
   "metadata": {},
   "outputs": [],
   "source": [
    "from dataset import ChessDataset\n",
    "from model import Model\n",
    "\n",
    "unique_labels, y_mapped = np.unique(y, return_inverse=True)\n",
    "\n",
    "int_to_move = {i: int(label) for i, label in enumerate(unique_labels)}\n",
    "\n",
    "with open(\"../models/move_mapping.json\", \"w\") as f:\n",
    "    json.dump(int_to_move, f)\n"
   ]
  },
  {
   "cell_type": "code",
   "execution_count": 6,
   "id": "bfcbd0be",
   "metadata": {},
   "outputs": [
    {
     "name": "stdout",
     "output_type": "stream",
     "text": [
      "Using device: cuda\n"
     ]
    },
    {
     "data": {
      "text/plain": [
       "Model(\n",
       "  (conv1): Conv2d(13, 64, kernel_size=(3, 3), stride=(1, 1), padding=(1, 1))\n",
       "  (conv2): Conv2d(64, 128, kernel_size=(3, 3), stride=(1, 1), padding=(1, 1))\n",
       "  (conv3): Conv2d(128, 256, kernel_size=(3, 3), stride=(1, 1), padding=(1, 1))\n",
       "  (flatten): Flatten(start_dim=1, end_dim=-1)\n",
       "  (batch_norm1): BatchNorm2d(64, eps=1e-05, momentum=0.1, affine=True, track_running_stats=True)\n",
       "  (batch_norm2): BatchNorm2d(128, eps=1e-05, momentum=0.1, affine=True, track_running_stats=True)\n",
       "  (batch_norm3): BatchNorm2d(256, eps=1e-05, momentum=0.1, affine=True, track_running_stats=True)\n",
       "  (fc1): Linear(in_features=16384, out_features=256, bias=True)\n",
       "  (fc2): Linear(in_features=256, out_features=1792, bias=True)\n",
       "  (relu): ReLU()\n",
       ")"
      ]
     },
     "execution_count": 6,
     "metadata": {},
     "output_type": "execute_result"
    }
   ],
   "source": [
    "dataset = ChessDataset(X, y_mapped)\n",
    "\n",
    "loader = DataLoader(dataset, batch_size=64, shuffle=True)\n",
    "\n",
    "device = torch.device(\"cuda\" if torch.cuda.is_available() else \"cpu\")\n",
    "print(f'Using device: {device}')\n",
    "\n",
    "torch.manual_seed(42)\n",
    "\n",
    "model = Model(num_of_indexes=len(unique_labels)).to(device)\n",
    "model"
   ]
  },
  {
   "cell_type": "code",
   "execution_count": 7,
   "id": "40992aec",
   "metadata": {},
   "outputs": [
    {
     "name": "stdout",
     "output_type": "stream",
     "text": [
      "Epoch 1/150, Loss: 3.7749\n",
      "Epoch 2/150, Loss: 2.6510\n",
      "Epoch 3/150, Loss: 2.1884\n",
      "Epoch 4/150, Loss: 1.8301\n",
      "Epoch 5/150, Loss: 1.5282\n",
      "Epoch 6/150, Loss: 1.2755\n",
      "Epoch 7/150, Loss: 1.0689\n",
      "Epoch 8/150, Loss: 0.9042\n",
      "Epoch 9/150, Loss: 0.7813\n",
      "Epoch 10/150, Loss: 0.6873\n",
      "Epoch 11/150, Loss: 0.6202\n",
      "Epoch 12/150, Loss: 0.5704\n",
      "Epoch 13/150, Loss: 0.5348\n",
      "Epoch 14/150, Loss: 0.5067\n",
      "Epoch 15/150, Loss: 0.4840\n",
      "Epoch 16/150, Loss: 0.4649\n",
      "Epoch 17/150, Loss: 0.4482\n",
      "Epoch 18/150, Loss: 0.4350\n",
      "Epoch 19/150, Loss: 0.4231\n",
      "Epoch 20/150, Loss: 0.4128\n",
      "Epoch 21/150, Loss: 0.4031\n",
      "Epoch 22/150, Loss: 0.3940\n",
      "Epoch 23/150, Loss: 0.3863\n",
      "Epoch 24/150, Loss: 0.3806\n",
      "Epoch 25/150, Loss: 0.3732\n",
      "Epoch 26/150, Loss: 0.3668\n",
      "Epoch 27/150, Loss: 0.3602\n",
      "Epoch 28/150, Loss: 0.3565\n",
      "Epoch 29/150, Loss: 0.3493\n",
      "Epoch 30/150, Loss: 0.3452\n",
      "Epoch 31/150, Loss: 0.3404\n",
      "Epoch 32/150, Loss: 0.3365\n",
      "Epoch 33/150, Loss: 0.3315\n",
      "Epoch 34/150, Loss: 0.3271\n",
      "Epoch 35/150, Loss: 0.3229\n",
      "Epoch 36/150, Loss: 0.3207\n",
      "Epoch 37/150, Loss: 0.3156\n",
      "Epoch 38/150, Loss: 0.3126\n",
      "Epoch 39/150, Loss: 0.3094\n",
      "Epoch 40/150, Loss: 0.3065\n",
      "Epoch 41/150, Loss: 0.3021\n",
      "Epoch 42/150, Loss: 0.2997\n",
      "Epoch 43/150, Loss: 0.2968\n",
      "Epoch 44/150, Loss: 0.2928\n",
      "Epoch 45/150, Loss: 0.2925\n",
      "Epoch 46/150, Loss: 0.2900\n",
      "Epoch 47/150, Loss: 0.2867\n",
      "Epoch 48/150, Loss: 0.2837\n",
      "Epoch 49/150, Loss: 0.2811\n",
      "Epoch 50/150, Loss: 0.2782\n",
      "Epoch 51/150, Loss: 0.2773\n",
      "Epoch 52/150, Loss: 0.2754\n",
      "Epoch 53/150, Loss: 0.2728\n",
      "Epoch 54/150, Loss: 0.2697\n",
      "Epoch 55/150, Loss: 0.2682\n",
      "Epoch 56/150, Loss: 0.2657\n",
      "Epoch 57/150, Loss: 0.2648\n",
      "Epoch 58/150, Loss: 0.2636\n",
      "Epoch 59/150, Loss: 0.2609\n",
      "Epoch 60/150, Loss: 0.2594\n",
      "Epoch 61/150, Loss: 0.2577\n",
      "Epoch 62/150, Loss: 0.2551\n",
      "Epoch 63/150, Loss: 0.2540\n",
      "Epoch 64/150, Loss: 0.2518\n",
      "Epoch 65/150, Loss: 0.2509\n",
      "Epoch 66/150, Loss: 0.2488\n",
      "Epoch 67/150, Loss: 0.2473\n",
      "Epoch 68/150, Loss: 0.2464\n",
      "Epoch 69/150, Loss: 0.2445\n",
      "Epoch 70/150, Loss: 0.2435\n",
      "Epoch 71/150, Loss: 0.2417\n",
      "Epoch 72/150, Loss: 0.2396\n",
      "Epoch 73/150, Loss: 0.2396\n",
      "Epoch 74/150, Loss: 0.2378\n",
      "Epoch 75/150, Loss: 0.2369\n",
      "Epoch 76/150, Loss: 0.2355\n",
      "Epoch 77/150, Loss: 0.2342\n",
      "Epoch 78/150, Loss: 0.2339\n",
      "Epoch 79/150, Loss: 0.2321\n",
      "Epoch 80/150, Loss: 0.2316\n",
      "Epoch 81/150, Loss: 0.2298\n",
      "Epoch 82/150, Loss: 0.2292\n",
      "Epoch 83/150, Loss: 0.2276\n",
      "Epoch 84/150, Loss: 0.2276\n",
      "Epoch 85/150, Loss: 0.2268\n",
      "Epoch 86/150, Loss: 0.2246\n",
      "Epoch 87/150, Loss: 0.2249\n",
      "Epoch 88/150, Loss: 0.2235\n",
      "Epoch 89/150, Loss: 0.2223\n",
      "Epoch 90/150, Loss: 0.2211\n",
      "Epoch 91/150, Loss: 0.2212\n",
      "Epoch 92/150, Loss: 0.2198\n",
      "Epoch 93/150, Loss: 0.2190\n",
      "Epoch 94/150, Loss: 0.2189\n",
      "Epoch 95/150, Loss: 0.2179\n",
      "Epoch 96/150, Loss: 0.2171\n",
      "Epoch 97/150, Loss: 0.2166\n",
      "Epoch 98/150, Loss: 0.2153\n",
      "Epoch 99/150, Loss: 0.2150\n",
      "Epoch 100/150, Loss: 0.2142\n"
     ]
    },
    {
     "ename": "KeyboardInterrupt",
     "evalue": "",
     "output_type": "error",
     "traceback": [
      "\u001b[31m---------------------------------------------------------------------------\u001b[39m",
      "\u001b[31mKeyboardInterrupt\u001b[39m                         Traceback (most recent call last)",
      "\u001b[36mCell\u001b[39m\u001b[36m \u001b[39m\u001b[32mIn[7]\u001b[39m\u001b[32m, line 25\u001b[39m\n\u001b[32m     22\u001b[39m optimizer.zero_grad()\n\u001b[32m     24\u001b[39m \u001b[38;5;66;03m# Przewidywanie\u001b[39;00m\n\u001b[32m---> \u001b[39m\u001b[32m25\u001b[39m outputs = \u001b[43mmodel\u001b[49m\u001b[43m(\u001b[49m\u001b[43minputs\u001b[49m\u001b[43m)\u001b[49m\n\u001b[32m     27\u001b[39m \u001b[38;5;66;03m# Obliczanie straty\u001b[39;00m\n\u001b[32m     28\u001b[39m loss = criterion(outputs, labels)\n",
      "\u001b[36mFile \u001b[39m\u001b[32m~/Pulpit/Pufferfish/.venv/lib/python3.12/site-packages/torch/nn/modules/module.py:1773\u001b[39m, in \u001b[36mModule._wrapped_call_impl\u001b[39m\u001b[34m(self, *args, **kwargs)\u001b[39m\n\u001b[32m   1771\u001b[39m     \u001b[38;5;28;01mreturn\u001b[39;00m \u001b[38;5;28mself\u001b[39m._compiled_call_impl(*args, **kwargs)  \u001b[38;5;66;03m# type: ignore[misc]\u001b[39;00m\n\u001b[32m   1772\u001b[39m \u001b[38;5;28;01melse\u001b[39;00m:\n\u001b[32m-> \u001b[39m\u001b[32m1773\u001b[39m     \u001b[38;5;28;01mreturn\u001b[39;00m \u001b[38;5;28;43mself\u001b[39;49m\u001b[43m.\u001b[49m\u001b[43m_call_impl\u001b[49m\u001b[43m(\u001b[49m\u001b[43m*\u001b[49m\u001b[43margs\u001b[49m\u001b[43m,\u001b[49m\u001b[43m \u001b[49m\u001b[43m*\u001b[49m\u001b[43m*\u001b[49m\u001b[43mkwargs\u001b[49m\u001b[43m)\u001b[49m\n",
      "\u001b[36mFile \u001b[39m\u001b[32m~/Pulpit/Pufferfish/.venv/lib/python3.12/site-packages/torch/nn/modules/module.py:1784\u001b[39m, in \u001b[36mModule._call_impl\u001b[39m\u001b[34m(self, *args, **kwargs)\u001b[39m\n\u001b[32m   1779\u001b[39m \u001b[38;5;66;03m# If we don't have any hooks, we want to skip the rest of the logic in\u001b[39;00m\n\u001b[32m   1780\u001b[39m \u001b[38;5;66;03m# this function, and just call forward.\u001b[39;00m\n\u001b[32m   1781\u001b[39m \u001b[38;5;28;01mif\u001b[39;00m \u001b[38;5;129;01mnot\u001b[39;00m (\u001b[38;5;28mself\u001b[39m._backward_hooks \u001b[38;5;129;01mor\u001b[39;00m \u001b[38;5;28mself\u001b[39m._backward_pre_hooks \u001b[38;5;129;01mor\u001b[39;00m \u001b[38;5;28mself\u001b[39m._forward_hooks \u001b[38;5;129;01mor\u001b[39;00m \u001b[38;5;28mself\u001b[39m._forward_pre_hooks\n\u001b[32m   1782\u001b[39m         \u001b[38;5;129;01mor\u001b[39;00m _global_backward_pre_hooks \u001b[38;5;129;01mor\u001b[39;00m _global_backward_hooks\n\u001b[32m   1783\u001b[39m         \u001b[38;5;129;01mor\u001b[39;00m _global_forward_hooks \u001b[38;5;129;01mor\u001b[39;00m _global_forward_pre_hooks):\n\u001b[32m-> \u001b[39m\u001b[32m1784\u001b[39m     \u001b[38;5;28;01mreturn\u001b[39;00m \u001b[43mforward_call\u001b[49m\u001b[43m(\u001b[49m\u001b[43m*\u001b[49m\u001b[43margs\u001b[49m\u001b[43m,\u001b[49m\u001b[43m \u001b[49m\u001b[43m*\u001b[49m\u001b[43m*\u001b[49m\u001b[43mkwargs\u001b[49m\u001b[43m)\u001b[49m\n\u001b[32m   1786\u001b[39m result = \u001b[38;5;28;01mNone\u001b[39;00m\n\u001b[32m   1787\u001b[39m called_always_called_hooks = \u001b[38;5;28mset\u001b[39m()\n",
      "\u001b[36mFile \u001b[39m\u001b[32m~/Pulpit/Pufferfish/training/model.py:23\u001b[39m, in \u001b[36mModel.forward\u001b[39m\u001b[34m(self, x)\u001b[39m\n\u001b[32m     22\u001b[39m \u001b[38;5;28;01mdef\u001b[39;00m\u001b[38;5;250m \u001b[39m\u001b[34mforward\u001b[39m(\u001b[38;5;28mself\u001b[39m, x):\n\u001b[32m---> \u001b[39m\u001b[32m23\u001b[39m     x = \u001b[38;5;28mself\u001b[39m.relu(\u001b[38;5;28;43mself\u001b[39;49m\u001b[43m.\u001b[49m\u001b[43mconv1\u001b[49m\u001b[43m(\u001b[49m\u001b[43mx\u001b[49m\u001b[43m)\u001b[49m)\n\u001b[32m     24\u001b[39m     x = \u001b[38;5;28mself\u001b[39m.batch_norm1(x)\n\u001b[32m     25\u001b[39m     x = \u001b[38;5;28mself\u001b[39m.relu(\u001b[38;5;28mself\u001b[39m.conv2(x))\n",
      "\u001b[36mFile \u001b[39m\u001b[32m~/Pulpit/Pufferfish/.venv/lib/python3.12/site-packages/torch/nn/modules/module.py:1773\u001b[39m, in \u001b[36mModule._wrapped_call_impl\u001b[39m\u001b[34m(self, *args, **kwargs)\u001b[39m\n\u001b[32m   1771\u001b[39m     \u001b[38;5;28;01mreturn\u001b[39;00m \u001b[38;5;28mself\u001b[39m._compiled_call_impl(*args, **kwargs)  \u001b[38;5;66;03m# type: ignore[misc]\u001b[39;00m\n\u001b[32m   1772\u001b[39m \u001b[38;5;28;01melse\u001b[39;00m:\n\u001b[32m-> \u001b[39m\u001b[32m1773\u001b[39m     \u001b[38;5;28;01mreturn\u001b[39;00m \u001b[38;5;28;43mself\u001b[39;49m\u001b[43m.\u001b[49m\u001b[43m_call_impl\u001b[49m\u001b[43m(\u001b[49m\u001b[43m*\u001b[49m\u001b[43margs\u001b[49m\u001b[43m,\u001b[49m\u001b[43m \u001b[49m\u001b[43m*\u001b[49m\u001b[43m*\u001b[49m\u001b[43mkwargs\u001b[49m\u001b[43m)\u001b[49m\n",
      "\u001b[36mFile \u001b[39m\u001b[32m~/Pulpit/Pufferfish/.venv/lib/python3.12/site-packages/torch/nn/modules/module.py:1784\u001b[39m, in \u001b[36mModule._call_impl\u001b[39m\u001b[34m(self, *args, **kwargs)\u001b[39m\n\u001b[32m   1779\u001b[39m \u001b[38;5;66;03m# If we don't have any hooks, we want to skip the rest of the logic in\u001b[39;00m\n\u001b[32m   1780\u001b[39m \u001b[38;5;66;03m# this function, and just call forward.\u001b[39;00m\n\u001b[32m   1781\u001b[39m \u001b[38;5;28;01mif\u001b[39;00m \u001b[38;5;129;01mnot\u001b[39;00m (\u001b[38;5;28mself\u001b[39m._backward_hooks \u001b[38;5;129;01mor\u001b[39;00m \u001b[38;5;28mself\u001b[39m._backward_pre_hooks \u001b[38;5;129;01mor\u001b[39;00m \u001b[38;5;28mself\u001b[39m._forward_hooks \u001b[38;5;129;01mor\u001b[39;00m \u001b[38;5;28mself\u001b[39m._forward_pre_hooks\n\u001b[32m   1782\u001b[39m         \u001b[38;5;129;01mor\u001b[39;00m _global_backward_pre_hooks \u001b[38;5;129;01mor\u001b[39;00m _global_backward_hooks\n\u001b[32m   1783\u001b[39m         \u001b[38;5;129;01mor\u001b[39;00m _global_forward_hooks \u001b[38;5;129;01mor\u001b[39;00m _global_forward_pre_hooks):\n\u001b[32m-> \u001b[39m\u001b[32m1784\u001b[39m     \u001b[38;5;28;01mreturn\u001b[39;00m \u001b[43mforward_call\u001b[49m\u001b[43m(\u001b[49m\u001b[43m*\u001b[49m\u001b[43margs\u001b[49m\u001b[43m,\u001b[49m\u001b[43m \u001b[49m\u001b[43m*\u001b[49m\u001b[43m*\u001b[49m\u001b[43mkwargs\u001b[49m\u001b[43m)\u001b[49m\n\u001b[32m   1786\u001b[39m result = \u001b[38;5;28;01mNone\u001b[39;00m\n\u001b[32m   1787\u001b[39m called_always_called_hooks = \u001b[38;5;28mset\u001b[39m()\n",
      "\u001b[36mFile \u001b[39m\u001b[32m~/Pulpit/Pufferfish/.venv/lib/python3.12/site-packages/torch/nn/modules/conv.py:548\u001b[39m, in \u001b[36mConv2d.forward\u001b[39m\u001b[34m(self, input)\u001b[39m\n\u001b[32m    547\u001b[39m \u001b[38;5;28;01mdef\u001b[39;00m\u001b[38;5;250m \u001b[39m\u001b[34mforward\u001b[39m(\u001b[38;5;28mself\u001b[39m, \u001b[38;5;28minput\u001b[39m: Tensor) -> Tensor:\n\u001b[32m--> \u001b[39m\u001b[32m548\u001b[39m     \u001b[38;5;28;01mreturn\u001b[39;00m \u001b[38;5;28;43mself\u001b[39;49m\u001b[43m.\u001b[49m\u001b[43m_conv_forward\u001b[49m\u001b[43m(\u001b[49m\u001b[38;5;28;43minput\u001b[39;49m\u001b[43m,\u001b[49m\u001b[43m \u001b[49m\u001b[38;5;28;43mself\u001b[39;49m\u001b[43m.\u001b[49m\u001b[43mweight\u001b[49m\u001b[43m,\u001b[49m\u001b[43m \u001b[49m\u001b[38;5;28;43mself\u001b[39;49m\u001b[43m.\u001b[49m\u001b[43mbias\u001b[49m\u001b[43m)\u001b[49m\n",
      "\u001b[36mFile \u001b[39m\u001b[32m~/Pulpit/Pufferfish/.venv/lib/python3.12/site-packages/torch/nn/modules/conv.py:543\u001b[39m, in \u001b[36mConv2d._conv_forward\u001b[39m\u001b[34m(self, input, weight, bias)\u001b[39m\n\u001b[32m    531\u001b[39m \u001b[38;5;28;01mif\u001b[39;00m \u001b[38;5;28mself\u001b[39m.padding_mode != \u001b[33m\"\u001b[39m\u001b[33mzeros\u001b[39m\u001b[33m\"\u001b[39m:\n\u001b[32m    532\u001b[39m     \u001b[38;5;28;01mreturn\u001b[39;00m F.conv2d(\n\u001b[32m    533\u001b[39m         F.pad(\n\u001b[32m    534\u001b[39m             \u001b[38;5;28minput\u001b[39m, \u001b[38;5;28mself\u001b[39m._reversed_padding_repeated_twice, mode=\u001b[38;5;28mself\u001b[39m.padding_mode\n\u001b[32m   (...)\u001b[39m\u001b[32m    541\u001b[39m         \u001b[38;5;28mself\u001b[39m.groups,\n\u001b[32m    542\u001b[39m     )\n\u001b[32m--> \u001b[39m\u001b[32m543\u001b[39m \u001b[38;5;28;01mreturn\u001b[39;00m \u001b[43mF\u001b[49m\u001b[43m.\u001b[49m\u001b[43mconv2d\u001b[49m\u001b[43m(\u001b[49m\n\u001b[32m    544\u001b[39m \u001b[43m    \u001b[49m\u001b[38;5;28;43minput\u001b[39;49m\u001b[43m,\u001b[49m\u001b[43m \u001b[49m\u001b[43mweight\u001b[49m\u001b[43m,\u001b[49m\u001b[43m \u001b[49m\u001b[43mbias\u001b[49m\u001b[43m,\u001b[49m\u001b[43m \u001b[49m\u001b[38;5;28;43mself\u001b[39;49m\u001b[43m.\u001b[49m\u001b[43mstride\u001b[49m\u001b[43m,\u001b[49m\u001b[43m \u001b[49m\u001b[38;5;28;43mself\u001b[39;49m\u001b[43m.\u001b[49m\u001b[43mpadding\u001b[49m\u001b[43m,\u001b[49m\u001b[43m \u001b[49m\u001b[38;5;28;43mself\u001b[39;49m\u001b[43m.\u001b[49m\u001b[43mdilation\u001b[49m\u001b[43m,\u001b[49m\u001b[43m \u001b[49m\u001b[38;5;28;43mself\u001b[39;49m\u001b[43m.\u001b[49m\u001b[43mgroups\u001b[49m\n\u001b[32m    545\u001b[39m \u001b[43m\u001b[49m\u001b[43m)\u001b[49m\n",
      "\u001b[31mKeyboardInterrupt\u001b[39m: "
     ]
    }
   ],
   "source": [
    "import csv\n",
    "\n",
    "optimizer = optim.Adam(model.parameters(), lr=0.0001)\n",
    "criterion = nn.CrossEntropyLoss()\n",
    "\n",
    "num_epochs = 150\n",
    "model_type = \"With BatchNorm2d(64) and 128\"\n",
    "\n",
    "description = f\"Epochs: {num_epochs}, Lr:{optimizer.param_groups[0]['lr']}, Model: {model_type}\"\n",
    "\n",
    "with open(\"../charts/cn2_bn2.csv\", \"w\", newline='') as csvfile:\n",
    "    csvfile.write(f\"# {description}\\n\")\n",
    "    writer = csv.writer(csvfile)\n",
    "    writer.writerow([\"epoch\", \"loss\"])\n",
    "\n",
    "    for epoch in range(num_epochs):\n",
    "        model.train()\n",
    "        running_loss = 0.0\n",
    "\n",
    "        for inputs, labels in loader:\n",
    "            inputs, labels = inputs.to(device), labels.to(device)\n",
    "            optimizer.zero_grad()\n",
    "\n",
    "            # Przewidywanie\n",
    "            outputs = model(inputs)\n",
    "\n",
    "            # Obliczanie straty\n",
    "            loss = criterion(outputs, labels)\n",
    "            loss.backward()\n",
    "            \n",
    "            torch.nn.utils.clip_grad_norm_(model.parameters(), max_norm=1.0)\n",
    "            \n",
    "            # Aktualizacja wag\n",
    "            optimizer.step()\n",
    "            # Akumulacja strat\n",
    "            running_loss += loss.item()\n",
    "        \n",
    "        # Obliczanie średniej straty dla epoki\n",
    "        avg_loss = running_loss / len(loader)\n",
    "        # Dodawanie do historii strat\n",
    "        writer.writerow([epoch + 1, avg_loss])\n",
    "        print(f'Epoch {epoch+1}/{num_epochs}, Loss: {avg_loss:.4f}')"
   ]
  },
  {
   "cell_type": "markdown",
   "id": "a1ebafc5",
   "metadata": {},
   "source": [
    "<h3>Defualt:</h3>\n",
    "\n",
    "```python\n",
    "class Model(nn.Module):\n",
    "    def __init__(self, num_of_indexes):\n",
    "        super().__init__()\n",
    "        self.conv1 = nn.Conv2d(13, 64, kernel_size=3, padding=1)\n",
    "        self.conv2 = nn.Conv2d(64, 128, kernel_size=3, padding=1)\n",
    "        self.flatten = nn.Flatten()\n",
    "        self.fc1 = nn.Linear(8 * 8 * 128, 256)\n",
    "        self.fc2 = nn.Linear(256, num_of_indexes)\n",
    "        self.relu = nn.ReLU()\n",
    "\n",
    "        nn.init.kaiming_uniform_(self.conv1.weight, nonlinearity='relu')\n",
    "        nn.init.kaiming_uniform_(self.conv2.weight, nonlinearity='relu')\n",
    "        nn.init.xavier_uniform_(self.fc1.weight)\n",
    "        nn.init.xavier_uniform_(self.fc2.weight)\n",
    "\n",
    "    def forward(self, x):\n",
    "        x = self.relu(self.conv1(x))\n",
    "        x = self.relu(self.conv2(x))\n",
    "        x = self.flatten(x)\n",
    "        x = self.relu(self.fc1(x))\n",
    "        x = self.fc2(x)\n",
    "        return x\n",
    "        "
   ]
  },
  {
   "cell_type": "markdown",
   "id": "e3ee3d52",
   "metadata": {},
   "source": [
    "<table>\n",
    "  <tr>\n",
    "    <th style=\"text-align:center\">Model</th>\n",
    "    <th>Epochs</th>\n",
    "    <th>Learning rate</th>\n",
    "    <th>Loss</th>\n",
    "  </tr>\n",
    "  <tr>\n",
    "    <td style=\"text-align:left\">Default</td>\n",
    "    <td align=\"center\">150</td>\n",
    "    <td align=\"center\">0.001</td>\n",
    "    <td align=\"center\">Divergence</td>\n",
    "  </tr>\n",
    "  <tr>\n",
    "    <td style=\"text-align:left\">Default</td>\n",
    "    <td align=\"center\">150</td>\n",
    "    <td align=\"center\">0.0001</td>\n",
    "    <td align=\"center\">0.3485</td>\n",
    "  </tr>\n",
    "  <tr>\n",
    "    <td style=\"text-align:left\">Default + 2x BatchNorm2d(64) and 128</td>\n",
    "    <td align=\"center\">150</td>\n",
    "    <td align=\"center\">0.001</td>\n",
    "    <td align=\"center\">0.4564</td>\n",
    "  </tr>\n",
    "  <tr>\n",
    "    <td style=\"text-align:left\">Default + 2x BatchNorm2d(64) and 128</td>\n",
    "    <td align=\"center\">150</td>\n",
    "    <td align=\"center\">0.0001</td>\n",
    "    <td align=\"center\">0.2547</td>\n",
    "  </tr>\n",
    "  <tr>\n",
    "    <td style=\"text-align:left\">Default + 1x Conv2d(128,256) 3x BatchNorm2d(64) and 128</td>\n",
    "    <td align=\"center\">100</td>\n",
    "    <td align=\"center\">0.0001</td>\n",
    "    <td align=\"center\">0.2142</td>\n",
    "  </tr>\n",
    "</table>\n",
    "\n"
   ]
  },
  {
   "cell_type": "code",
   "execution_count": 8,
   "id": "733ef6f6",
   "metadata": {},
   "outputs": [],
   "source": [
    "torch.save(model.state_dict(), \"../models/CN2_BN2.pth\")"
   ]
  },
  {
   "cell_type": "markdown",
   "id": "cdf0d756",
   "metadata": {},
   "source": [
    "<table>\n",
    "  <tr>\n",
    "    <th style=\"text-align:center\">Model</th>\n",
    "    <th>Epochs</th>\n",
    "    <th>Learning rate</th>\n",
    "    <th>Graph</th>\n",
    "    <th>Model</th>\n",
    "    <th>Loss</th>\n",
    "  </tr>\n",
    "  <tr>\n",
    "    <td style=\"text-align:left\">Default</td>\n",
    "    <td align=\"center\">150</td>\n",
    "    <td align=\"center\">0.001</td>\n",
    "    <td align=\"center\">X</td>\n",
    "    <td align=\"center\">X</td>\n",
    "    <td align=\"center\">Divergence</td>\n",
    "  </tr>\n",
    "  <tr>\n",
    "    <td style=\"text-align:left\">Default</td>\n",
    "    <td align=\"center\">150</td>\n",
    "    <td align=\"center\">0.0001</td>\n",
    "    <td align=\"center\">default</td>\n",
    "    <td align=\"center\">DEFAULT</td>\n",
    "    <td align=\"center\">0.3485</td>\n",
    "  </tr>\n",
    "  <tr>\n",
    "    <td style=\"text-align:left\">Default + 2x BatchNorm2d(64) and 128</td>\n",
    "    <td align=\"center\">150</td>\n",
    "    <td align=\"center\">0.001</td>\n",
    "    <td align=\"center\">bn2_hlr</td>\n",
    "    <td align=\"center\">BN2_HLR</td>\n",
    "    <td align=\"center\">0.4564</td>\n",
    "  </tr>\n",
    "  <tr>\n",
    "    <td style=\"text-align:left\">Default + 2x BatchNorm2d(64) and 128</td>\n",
    "    <td align=\"center\">150</td>\n",
    "    <td align=\"center\">0.0001</td>\n",
    "    <td align=\"center\">bn2</td>\n",
    "    <td align=\"center\">BN2</td>\n",
    "    <td align=\"center\">0.2547</td>\n",
    "  </tr>\n",
    "  <tr>\n",
    "    <td style=\"text-align:left\">Default + 1x Conv2d(128,256) 2x BatchNorm2d(64) and 128</td>\n",
    "    <td align=\"center\">100</td>\n",
    "    <td align=\"center\">0.0001</td>\n",
    "    <td align=\"center\">cn2_bn2</td>\n",
    "    <td align=\"center\">CN2_BN2</td>\n",
    "    <td align=\"center\">0.2142</td>\n",
    "  </tr>\n",
    "</table>\n",
    "\n"
   ]
  }
 ],
 "metadata": {
  "kernelspec": {
   "display_name": ".venv",
   "language": "python",
   "name": "python3"
  },
  "language_info": {
   "codemirror_mode": {
    "name": "ipython",
    "version": 3
   },
   "file_extension": ".py",
   "mimetype": "text/x-python",
   "name": "python",
   "nbconvert_exporter": "python",
   "pygments_lexer": "ipython3",
   "version": "3.12.3"
  }
 },
 "nbformat": 4,
 "nbformat_minor": 5
}
