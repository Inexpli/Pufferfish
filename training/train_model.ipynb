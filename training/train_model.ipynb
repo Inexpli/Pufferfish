{
 "cells": [
  {
   "cell_type": "code",
   "execution_count": null,
   "id": "9ffe4dab",
   "metadata": {},
   "outputs": [],
   "source": [
    "import torch\n",
    "import torch.nn as nn \n",
    "import torch.optim as optim \n",
    "import numpy as np\n",
    "import json\n",
    "from torch.utils.data import DataLoader \n",
    "from data_manager import load_data, get_data_shapes, get_num_indexes\n",
    "%load_ext autoreload\n",
    "%autoreload 2"
   ]
  },
  {
   "cell_type": "code",
   "execution_count": null,
   "id": "12c60842",
   "metadata": {},
   "outputs": [],
   "source": [
    "X, y, num_games = load_data()"
   ]
  },
  {
   "cell_type": "code",
   "execution_count": null,
   "id": "347499fa",
   "metadata": {},
   "outputs": [],
   "source": [
    "print(\"Ilość gier:\", num_games)"
   ]
  },
  {
   "cell_type": "code",
   "execution_count": null,
   "id": "55410583",
   "metadata": {},
   "outputs": [],
   "source": [
    "get_data_shapes(X,y)"
   ]
  },
  {
   "cell_type": "code",
   "execution_count": null,
   "id": "89702e71",
   "metadata": {},
   "outputs": [],
   "source": [
    "from dataset import ChessDataset\n",
    "from model import Model\n",
    "\n",
    "unique_labels, y_mapped = np.unique(y, return_inverse=True)\n",
    "\n",
    "int_to_move = {i: int(label) for i, label in enumerate(unique_labels)}\n",
    "move_to_int = {int(label): i for i, label in enumerate(unique_labels)}\n",
    "\n",
    "with open(\"../models/move_mapping.json\", \"w\") as f:\n",
    "    json.dump(int_to_move, f)\n"
   ]
  },
  {
   "cell_type": "code",
   "execution_count": null,
   "id": "bfcbd0be",
   "metadata": {},
   "outputs": [],
   "source": [
    "dataset = ChessDataset(X, y_mapped)\n",
    "\n",
    "loader = DataLoader(dataset, batch_size=64, shuffle=True)\n",
    "\n",
    "device = torch.device(\"cuda\" if torch.cuda.is_available() else \"cpu\")\n",
    "print(f'Using device: {device}')\n",
    "\n",
    "torch.manual_seed(42)\n",
    "\n",
    "model = Model(num_of_indexes=len(unique_labels)).to(device)\n",
    "model"
   ]
  },
  {
   "cell_type": "code",
   "execution_count": null,
   "id": "40992aec",
   "metadata": {},
   "outputs": [],
   "source": [
    "optimizer = optim.Adam(model.parameters(), lr=0.001)\n",
    "criterion = nn.CrossEntropyLoss()\n",
    "\n",
    "num_epochs = 100\n",
    "for epoch in range(num_epochs):\n",
    "    model.train()\n",
    "    running_loss = 0.0\n",
    "    for inputs, labels in loader:\n",
    "        inputs, labels = inputs.to(device), labels.to(device)\n",
    "        optimizer.zero_grad()\n",
    "\n",
    "        outputs = model(inputs)  # Raw logits\n",
    "\n",
    "        # Compute loss\n",
    "        loss = criterion(outputs, labels)\n",
    "        loss.backward()\n",
    "        \n",
    "        # Gradient clipping\n",
    "        torch.nn.utils.clip_grad_norm_(model.parameters(), max_norm=1.0)\n",
    "        \n",
    "        optimizer.step()\n",
    "        running_loss += loss.item()\n",
    "    print(f'Epoch {epoch+1}/{num_epochs}, Loss: {running_loss / len(loader):.4f}')\n",
    "\n",
    "    # Default: => Loss: 0.1763, 6m56s\n",
    "    # 2x BatchNorm2d(64) and 128 => Loss: 0.1429, 7m23s"
   ]
  },
  {
   "cell_type": "code",
   "execution_count": null,
   "id": "733ef6f6",
   "metadata": {},
   "outputs": [],
   "source": [
    "torch.save(model.state_dict(), \"../models/TORCH_100EPOCHS.pth\")"
   ]
  }
 ],
 "metadata": {
  "kernelspec": {
   "display_name": ".venv",
   "language": "python",
   "name": "python3"
  },
  "language_info": {
   "codemirror_mode": {
    "name": "ipython",
    "version": 3
   },
   "file_extension": ".py",
   "mimetype": "text/x-python",
   "name": "python",
   "nbconvert_exporter": "python",
   "pygments_lexer": "ipython3",
   "version": "3.12.3"
  }
 },
 "nbformat": 4,
 "nbformat_minor": 5
}
